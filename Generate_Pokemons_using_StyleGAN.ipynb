{
  "nbformat": 4,
  "nbformat_minor": 0,
  "metadata": {
    "colab": {
      "name": "Generate Pokemons using StyleGAN.ipynb",
      "provenance": [],
      "collapsed_sections": []
    },
    "kernelspec": {
      "name": "python3",
      "display_name": "Python 3"
    },
    "language_info": {
      "name": "python"
    },
    "accelerator": "GPU"
  },
  "cells": [
    {
      "cell_type": "markdown",
      "metadata": {
        "id": "aTHjkjjJ8zVO"
      },
      "source": [
        "# Generate new Images using StyleGAN"
      ]
    },
    {
      "cell_type": "markdown",
      "metadata": {
        "id": "wB5xqtIe89wd"
      },
      "source": [
        "## Import necessary libraries "
      ]
    },
    {
      "cell_type": "markdown",
      "metadata": {
        "id": "PnXKhe45_Qab"
      },
      "source": [
        "Comment if is a local environment and execute this command in Anaconda terminal "
      ]
    },
    {
      "cell_type": "code",
      "metadata": {
        "colab": {
          "base_uri": "https://localhost:8080/"
        },
        "id": "4ervBsyD_G8a",
        "outputId": "39f6a5d1-b27e-4b3d-8475-e4fe85a4b7f3"
      },
      "source": [
        "pip install python-resize-image"
      ],
      "execution_count": 1,
      "outputs": [
        {
          "output_type": "stream",
          "name": "stdout",
          "text": [
            "Collecting python-resize-image\n",
            "  Downloading python_resize_image-1.1.19-py2.py3-none-any.whl (8.4 kB)\n",
            "Requirement already satisfied: requests>=2.19.1 in /usr/local/lib/python3.7/dist-packages (from python-resize-image) (2.23.0)\n",
            "Requirement already satisfied: Pillow>=5.1.0 in /usr/local/lib/python3.7/dist-packages (from python-resize-image) (7.1.2)\n",
            "Requirement already satisfied: certifi>=2017.4.17 in /usr/local/lib/python3.7/dist-packages (from requests>=2.19.1->python-resize-image) (2021.5.30)\n",
            "Requirement already satisfied: idna<3,>=2.5 in /usr/local/lib/python3.7/dist-packages (from requests>=2.19.1->python-resize-image) (2.10)\n",
            "Requirement already satisfied: chardet<4,>=3.0.2 in /usr/local/lib/python3.7/dist-packages (from requests>=2.19.1->python-resize-image) (3.0.4)\n",
            "Requirement already satisfied: urllib3!=1.25.0,!=1.25.1,<1.26,>=1.21.1 in /usr/local/lib/python3.7/dist-packages (from requests>=2.19.1->python-resize-image) (1.24.3)\n",
            "Installing collected packages: python-resize-image\n",
            "Successfully installed python-resize-image-1.1.19\n"
          ]
        }
      ]
    },
    {
      "cell_type": "code",
      "metadata": {
        "colab": {
          "base_uri": "https://localhost:8080/"
        },
        "id": "WYQVe_SpEs7d",
        "outputId": "abb5968a-a933-4bd9-8e6f-7cdba1f49a43"
      },
      "source": [
        "import sys\n",
        "import os\n",
        "import matplotlib.pyplot as plt\n",
        "import numpy as np\n",
        "from tqdm import tqdm\n",
        "import cv2\n",
        "from PIL import Image\n",
        "from resizeimage import resizeimage\n",
        "\n",
        "#Comment if is a local environment \n",
        "from google.colab import drive\n",
        "drive.mount('/content/drive')\n",
        "\n",
        "#StyleGAN supports only version 1.x of Tensorflow \n",
        "%tensorflow_version 1.x\n",
        "import tensorflow\n",
        "print(tensorflow.__version__)"
      ],
      "execution_count": 2,
      "outputs": [
        {
          "output_type": "stream",
          "name": "stdout",
          "text": [
            "Drive already mounted at /content/drive; to attempt to forcibly remount, call drive.mount(\"/content/drive\", force_remount=True).\n",
            "TensorFlow 1.x selected.\n",
            "1.15.2\n"
          ]
        }
      ]
    },
    {
      "cell_type": "markdown",
      "metadata": {
        "id": "QE-ELPyA94q2"
      },
      "source": [
        "if you are using Google Colab, it is recommended to check if the notebook is the model is executed in a GPU "
      ]
    },
    {
      "cell_type": "code",
      "metadata": {
        "colab": {
          "base_uri": "https://localhost:8080/"
        },
        "id": "Fd19zykt-Tzo",
        "outputId": "2045de87-5608-4bd3-e0fb-f2c04c48fbf0"
      },
      "source": [
        "device_name = tensorflow.test.gpu_device_name()\n",
        "if device_name != '/device:GPU:0':\n",
        "  raise SystemError('GPU no encontrada')\n",
        "print('Encontrada GPU: {}'.format(device_name))"
      ],
      "execution_count": 3,
      "outputs": [
        {
          "output_type": "stream",
          "name": "stdout",
          "text": [
            "Encontrada GPU: /device:GPU:0\n"
          ]
        }
      ]
    },
    {
      "cell_type": "markdown",
      "metadata": {
        "id": "aFr57XhV9G7b"
      },
      "source": [
        "## Clone StyleGAN github repository"
      ]
    },
    {
      "cell_type": "code",
      "metadata": {
        "colab": {
          "base_uri": "https://localhost:8080/"
        },
        "id": "Qr7Xw5bUF6LI",
        "outputId": "df7db61d-2364-49c3-a69f-97677a47dbf1"
      },
      "source": [
        "!git clone https://github.com/NVlabs/stylegan.git\n",
        "!ls /content/stylegan/"
      ],
      "execution_count": 4,
      "outputs": [
        {
          "output_type": "stream",
          "name": "stdout",
          "text": [
            "Cloning into 'stylegan'...\n",
            "remote: Enumerating objects: 86, done.\u001b[K\n",
            "remote: Total 86 (delta 0), reused 0 (delta 0), pack-reused 86\u001b[K\n",
            "Unpacking objects: 100% (86/86), done.\n",
            "config.py\t     LICENSE.txt\t    run_metrics.py\n",
            "dataset_tool.py      metrics\t\t    stylegan-teaser.png\n",
            "dnnlib\t\t     pretrained_example.py  training\n",
            "generate_figures.py  README.md\t\t    train.py\n"
          ]
        }
      ]
    },
    {
      "cell_type": "code",
      "metadata": {
        "id": "0oxl6GlzGEnY"
      },
      "source": [
        "sys.path.insert(0, \"/content/stylegan\")\n",
        "import dnnlib"
      ],
      "execution_count": 5,
      "outputs": []
    },
    {
      "cell_type": "markdown",
      "metadata": {
        "id": "W2waO2079OpD"
      },
      "source": [
        "## Analyzing real images sizes "
      ]
    },
    {
      "cell_type": "code",
      "metadata": {
        "id": "2JI4_OEzGG0w"
      },
      "source": [
        "data_dir= \"/content/drive/MyDrive/Colab Notebooks/pokemon\""
      ],
      "execution_count": 6,
      "outputs": []
    },
    {
      "cell_type": "code",
      "metadata": {
        "id": "sCZg3pjIGiwD"
      },
      "source": [
        "dim1=[]\n",
        "dim2=[]\n",
        "\n",
        "for image_name in os.listdir(data_dir+\"/pokemon\"):\n",
        "    image=plt.imread(data_dir+\"/pokemon/\"+image_name)\n",
        "    d1,d2,q= image.shape\n",
        "    dim1.append(d1)\n",
        "    dim2.append(d2)"
      ],
      "execution_count": 7,
      "outputs": []
    },
    {
      "cell_type": "code",
      "metadata": {
        "colab": {
          "base_uri": "https://localhost:8080/"
        },
        "id": "8QrlyeNcIPX9",
        "outputId": "5edff49e-9943-4281-b9cb-c6d4967ed00e"
      },
      "source": [
        "np.mean(dim1)"
      ],
      "execution_count": 8,
      "outputs": [
        {
          "output_type": "execute_result",
          "data": {
            "text/plain": [
              "64.0"
            ]
          },
          "metadata": {},
          "execution_count": 8
        }
      ]
    },
    {
      "cell_type": "code",
      "metadata": {
        "colab": {
          "base_uri": "https://localhost:8080/"
        },
        "id": "q_5UpQ83IdEK",
        "outputId": "0975424e-0421-4f63-e666-35107ca70b0f"
      },
      "source": [
        "np.mean(dim2)"
      ],
      "execution_count": 9,
      "outputs": [
        {
          "output_type": "execute_result",
          "data": {
            "text/plain": [
              "64.0"
            ]
          },
          "metadata": {},
          "execution_count": 9
        }
      ]
    },
    {
      "cell_type": "code",
      "metadata": {
        "colab": {
          "base_uri": "https://localhost:8080/"
        },
        "id": "LS0d6NB0Lao-",
        "outputId": "65571b7c-9140-4530-99c2-5e3ad2c3b31a"
      },
      "source": [
        "# Change the route to a new one if you dont want to overwrite the original images \n",
        "for filename in tqdm(os.listdir(data_dir+\"/pokemon\"),desc ='reading images ...'):\n",
        "  image = Image.open(data_dir+\"/pokemon/\"+filename).convert('RGB')\n",
        "  image = image.resize((64,64))\n",
        "  image.save(data_dir+\"/pokemon/\"+filename, image.format)"
      ],
      "execution_count": 10,
      "outputs": [
        {
          "output_type": "stream",
          "name": "stderr",
          "text": [
            "reading images ...: 100%|██████████| 819/819 [00:09<00:00, 82.24it/s]\n"
          ]
        }
      ]
    },
    {
      "cell_type": "markdown",
      "metadata": {
        "id": "lUdV-I83_lHg"
      },
      "source": [
        "## Convert the custom images to tfrecords"
      ]
    },
    {
      "cell_type": "code",
      "metadata": {
        "colab": {
          "base_uri": "https://localhost:8080/"
        },
        "id": "TNFJ8RCbIlEh",
        "outputId": "a3a972ff-980e-4990-a6b3-5ec1ba3eab24"
      },
      "source": [
        "! python /content/stylegan/dataset_tool.py create_from_images /content/stylegan/datasets/custom-dataset '/content/drive/MyDrive/Colab Notebooks/pokemon/pokemon'"
      ],
      "execution_count": 11,
      "outputs": [
        {
          "output_type": "stream",
          "name": "stdout",
          "text": [
            "WARNING:tensorflow:From /content/stylegan/dnnlib/tflib/tfutil.py:34: The name tf.Dimension is deprecated. Please use tf.compat.v1.Dimension instead.\n",
            "\n",
            "WARNING:tensorflow:From /content/stylegan/dnnlib/tflib/tfutil.py:74: The name tf.variable_scope is deprecated. Please use tf.compat.v1.variable_scope instead.\n",
            "\n",
            "WARNING:tensorflow:From /content/stylegan/dnnlib/tflib/tfutil.py:128: The name tf.Session is deprecated. Please use tf.compat.v1.Session instead.\n",
            "\n",
            "Loading images from \"/content/drive/MyDrive/Colab Notebooks/pokemon/pokemon\"\n",
            "Creating dataset \"/content/stylegan/datasets/custom-dataset\"\n",
            "0 / 819\rWARNING:tensorflow:From /content/stylegan/dataset_tool.py:75: The name tf.python_io.TFRecordOptions is deprecated. Please use tf.io.TFRecordOptions instead.\n",
            "\n",
            "WARNING:tensorflow:From /content/stylegan/dataset_tool.py:75: The name tf.python_io.TFRecordCompressionType is deprecated. Please use tf.compat.v1.python_io.TFRecordCompressionType instead.\n",
            "\n",
            "WARNING:tensorflow:From /content/stylegan/dataset_tool.py:78: The name tf.python_io.TFRecordWriter is deprecated. Please use tf.io.TFRecordWriter instead.\n",
            "\n",
            "/content/stylegan/dataset_tool.py:87: DeprecationWarning: tostring() is deprecated. Use tobytes() instead.\n",
            "  'data': tf.train.Feature(bytes_list=tf.train.BytesList(value=[quant.tostring()]))}))\n",
            "Added 819 images.\n"
          ]
        }
      ]
    },
    {
      "cell_type": "markdown",
      "metadata": {
        "id": "hcHK7JMjCCsV"
      },
      "source": [
        "## Begin Training the SGAN Model "
      ]
    },
    {
      "cell_type": "markdown",
      "metadata": {
        "id": "3BQqIRp9CJqt"
      },
      "source": [
        "Before beginning training the model, make sure you make these two changes:\n",
        "\n",
        "\n",
        "*   Go to the stylegan folder and open the train.py file, in line no 37 add the next route: \"/content/stylegan/datasets/custom-dataset\"\n",
        "*   Go to the path under stylegan/metrics and open python file frechet_inception_distance.py. In line number 29 add the next link: 'https://nvlabs-fi-cdn.nvidia.com/stylegan/networks/metrics/inception_v3_features.pkl'\n",
        "\n"
      ]
    },
    {
      "cell_type": "markdown",
      "metadata": {
        "id": "FtKO3n6YA06j"
      },
      "source": [
        "NOTE!: Using the GPU in Colab is time-limited, specially in training tasks. If you want to use until the training is complete, you need to execute the following Js function in the console of the opened notebook "
      ]
    },
    {
      "cell_type": "code",
      "metadata": {
        "id": "fmxecRXdBisL"
      },
      "source": [
        "function ClickConnect(){\n",
        "console.log(\"Working\");\n",
        "document.querySelector(\"colab-connect-button\").shadowRoot.getElementById(\"connect\").click();\n",
        "}\n",
        "setInterval(ClickConnect,60000)"
      ],
      "execution_count": null,
      "outputs": []
    },
    {
      "cell_type": "code",
      "metadata": {
        "colab": {
          "base_uri": "https://localhost:8080/"
        },
        "id": "nnec9zoXrk7r",
        "outputId": "e50a1b9a-8919-44b1-a86e-c971c655cb1c"
      },
      "source": [
        "! python /content/stylegan/train.py "
      ],
      "execution_count": null,
      "outputs": [
        {
          "output_type": "stream",
          "name": "stdout",
          "text": [
            "WARNING:tensorflow:From /content/stylegan/dnnlib/tflib/tfutil.py:34: The name tf.Dimension is deprecated. Please use tf.compat.v1.Dimension instead.\n",
            "\n",
            "WARNING:tensorflow:From /content/stylegan/dnnlib/tflib/tfutil.py:74: The name tf.variable_scope is deprecated. Please use tf.compat.v1.variable_scope instead.\n",
            "\n",
            "WARNING:tensorflow:From /content/stylegan/dnnlib/tflib/tfutil.py:128: The name tf.Session is deprecated. Please use tf.compat.v1.Session instead.\n",
            "\n",
            "Creating the run dir: results/00002-sgan-/content/stylegan/datasets/custom-dataset-1gpu\n",
            "Copying files to the run dir\n",
            "dnnlib: Running training.training_loop.training_loop() on localhost...\n",
            "WARNING:tensorflow:From /content/stylegan/dnnlib/tflib/tfutil.py:97: The name tf.get_default_session is deprecated. Please use tf.compat.v1.get_default_session instead.\n",
            "\n",
            "WARNING:tensorflow:From /content/stylegan/dnnlib/tflib/tfutil.py:109: The name tf.set_random_seed is deprecated. Please use tf.compat.v1.set_random_seed instead.\n",
            "\n",
            "WARNING:tensorflow:From /content/stylegan/dnnlib/tflib/tfutil.py:132: The name tf.ConfigProto is deprecated. Please use tf.compat.v1.ConfigProto instead.\n",
            "\n",
            "Streaming data using training.dataset.TFRecordDataset...\n",
            "WARNING:tensorflow:From /content/stylegan/training/dataset.py:75: The name tf.python_io.TFRecordOptions is deprecated. Please use tf.io.TFRecordOptions instead.\n",
            "\n",
            "WARNING:tensorflow:From /content/stylegan/training/dataset.py:75: The name tf.python_io.TFRecordCompressionType is deprecated. Please use tf.compat.v1.python_io.TFRecordCompressionType instead.\n",
            "\n",
            "WARNING:tensorflow:From /content/stylegan/training/dataset.py:76: tf_record_iterator (from tensorflow.python.lib.io.tf_record) is deprecated and will be removed in a future version.\n",
            "Instructions for updating:\n",
            "Use eager execution and: \n",
            "`tf.data.TFRecordDataset(path)`\n",
            "WARNING:tensorflow:From /content/stylegan/training/dataset.py:114: The name tf.placeholder is deprecated. Please use tf.compat.v1.placeholder instead.\n",
            "\n",
            "WARNING:tensorflow:From /content/stylegan/dnnlib/tflib/tfutil.py:196: The name tf.get_default_graph is deprecated. Please use tf.compat.v1.get_default_graph instead.\n",
            "\n",
            "WARNING:tensorflow:From /content/stylegan/dnnlib/tflib/tfutil.py:200: The name tf.assign is deprecated. Please use tf.compat.v1.assign instead.\n",
            "\n",
            "WARNING:tensorflow:Entity <function parse_tfrecord_tf at 0x7f2d3590b0e0> could not be transformed and will be executed as-is. Please report this to the AutoGraph team. When filing the bug, set the verbosity to 10 (on Linux, `export AUTOGRAPH_VERBOSITY=10`) and attach the full output. Cause: module 'gast' has no attribute 'Index'\n",
            "WARNING:tensorflow:From /content/stylegan/training/dataset.py:21: The name tf.parse_single_example is deprecated. Please use tf.io.parse_single_example instead.\n",
            "\n",
            "WARNING:tensorflow:From /content/stylegan/training/dataset.py:22: The name tf.FixedLenFeature is deprecated. Please use tf.io.FixedLenFeature instead.\n",
            "\n",
            "WARNING:tensorflow:From /tensorflow-1.15.2/python3.7/tensorflow_core/python/data/util/random_seed.py:58: where (from tensorflow.python.ops.array_ops) is deprecated and will be removed in a future version.\n",
            "Instructions for updating:\n",
            "Use tf.where in 2.0, which has the same broadcast rule as np.where\n",
            "WARNING:tensorflow:From /content/stylegan/training/dataset.py:132: The name tf.data.Iterator is deprecated. Please use tf.compat.v1.data.Iterator instead.\n",
            "\n",
            "WARNING:tensorflow:From /content/stylegan/training/dataset.py:132: DatasetV1.output_types (from tensorflow.python.data.ops.dataset_ops) is deprecated and will be removed in a future version.\n",
            "Instructions for updating:\n",
            "Use `tf.compat.v1.data.get_output_types(dataset)`.\n",
            "WARNING:tensorflow:From /content/stylegan/training/dataset.py:132: DatasetV1.output_shapes (from tensorflow.python.data.ops.dataset_ops) is deprecated and will be removed in a future version.\n",
            "Instructions for updating:\n",
            "Use `tf.compat.v1.data.get_output_shapes(dataset)`.\n",
            "WARNING:tensorflow:From /tensorflow-1.15.2/python3.7/tensorflow_core/python/data/ops/iterator_ops.py:347: Iterator.output_types (from tensorflow.python.data.ops.iterator_ops) is deprecated and will be removed in a future version.\n",
            "Instructions for updating:\n",
            "Use `tf.compat.v1.data.get_output_types(iterator)`.\n",
            "WARNING:tensorflow:From /tensorflow-1.15.2/python3.7/tensorflow_core/python/data/ops/iterator_ops.py:348: Iterator.output_shapes (from tensorflow.python.data.ops.iterator_ops) is deprecated and will be removed in a future version.\n",
            "Instructions for updating:\n",
            "Use `tf.compat.v1.data.get_output_shapes(iterator)`.\n",
            "WARNING:tensorflow:From /tensorflow-1.15.2/python3.7/tensorflow_core/python/data/ops/iterator_ops.py:350: Iterator.output_classes (from tensorflow.python.data.ops.iterator_ops) is deprecated and will be removed in a future version.\n",
            "Instructions for updating:\n",
            "Use `tf.compat.v1.data.get_output_classes(iterator)`.\n",
            "Dataset shape = [3, 64, 64]\n",
            "Dynamic range = [0, 255]\n",
            "Label size    = 0\n",
            "Constructing networks...\n",
            "WARNING:tensorflow:From /content/stylegan/dnnlib/tflib/network.py:150: The name tf.AUTO_REUSE is deprecated. Please use tf.compat.v1.AUTO_REUSE instead.\n",
            "\n",
            "WARNING:tensorflow:From /content/stylegan/dnnlib/tflib/tfutil.py:76: The name tf.VariableScope is deprecated. Please use tf.compat.v1.VariableScope instead.\n",
            "\n",
            "WARNING:tensorflow:From /content/stylegan/dnnlib/tflib/network.py:151: The name tf.get_variable_scope is deprecated. Please use tf.compat.v1.get_variable_scope instead.\n",
            "\n",
            "WARNING:tensorflow:From /content/stylegan/training/networks_stylegan.py:479: The name tf.get_variable is deprecated. Please use tf.compat.v1.get_variable instead.\n",
            "\n",
            "WARNING:tensorflow:From /content/stylegan/training/networks_stylegan.py:254: The name tf.rsqrt is deprecated. Please use tf.math.rsqrt instead.\n",
            "\n",
            "WARNING:tensorflow:From /content/stylegan/dnnlib/tflib/network.py:182: The name tf.global_variables is deprecated. Please use tf.compat.v1.global_variables instead.\n",
            "\n",
            "\n",
            "G                           Params    OutputShape       WeightShape     \n",
            "---                         ---       ---               ---             \n",
            "latents_in                  -         (?, 512)          -               \n",
            "labels_in                   -         (?, 0)            -               \n",
            "lod                         -         ()                -               \n",
            "dlatent_avg                 -         (512,)            -               \n",
            "G_mapping/latents_in        -         (?, 512)          -               \n",
            "G_mapping/labels_in         -         (?, 0)            -               \n",
            "G_mapping/PixelNorm         -         (?, 512)          -               \n",
            "G_mapping/Dense0            262656    (?, 512)          (512, 512)      \n",
            "G_mapping/Dense1            262656    (?, 512)          (512, 512)      \n",
            "G_mapping/Dense2            262656    (?, 512)          (512, 512)      \n",
            "G_mapping/Dense3            262656    (?, 512)          (512, 512)      \n",
            "G_mapping/Dense4            262656    (?, 512)          (512, 512)      \n",
            "G_mapping/Dense5            262656    (?, 512)          (512, 512)      \n",
            "G_mapping/Dense6            262656    (?, 512)          (512, 512)      \n",
            "G_mapping/Dense7            262656    (?, 512)          (512, 512)      \n",
            "G_mapping/Broadcast         -         (?, 10, 512)      -               \n",
            "G_mapping/dlatents_out      -         (?, 10, 512)      -               \n",
            "Truncation                  -         (?, 10, 512)      -               \n",
            "G_synthesis/dlatents_in     -         (?, 10, 512)      -               \n",
            "G_synthesis/4x4/Const       534528    (?, 512, 4, 4)    (512,)          \n",
            "G_synthesis/4x4/Conv        2885632   (?, 512, 4, 4)    (3, 3, 512, 512)\n",
            "G_synthesis/ToRGB_lod4      1539      (?, 3, 4, 4)      (1, 1, 512, 3)  \n",
            "G_synthesis/8x8/Conv0_up    2885632   (?, 512, 8, 8)    (3, 3, 512, 512)\n",
            "G_synthesis/8x8/Conv1       2885632   (?, 512, 8, 8)    (3, 3, 512, 512)\n",
            "G_synthesis/ToRGB_lod3      1539      (?, 3, 8, 8)      (1, 1, 512, 3)  \n",
            "G_synthesis/Upscale2D       -         (?, 3, 8, 8)      -               \n",
            "G_synthesis/Grow_lod3       -         (?, 3, 8, 8)      -               \n",
            "G_synthesis/16x16/Conv0_up  2885632   (?, 512, 16, 16)  (3, 3, 512, 512)\n",
            "G_synthesis/16x16/Conv1     2885632   (?, 512, 16, 16)  (3, 3, 512, 512)\n",
            "G_synthesis/ToRGB_lod2      1539      (?, 3, 16, 16)    (1, 1, 512, 3)  \n",
            "G_synthesis/Upscale2D_1     -         (?, 3, 16, 16)    -               \n",
            "G_synthesis/Grow_lod2       -         (?, 3, 16, 16)    -               \n",
            "G_synthesis/32x32/Conv0_up  2885632   (?, 512, 32, 32)  (3, 3, 512, 512)\n",
            "G_synthesis/32x32/Conv1     2885632   (?, 512, 32, 32)  (3, 3, 512, 512)\n",
            "G_synthesis/ToRGB_lod1      1539      (?, 3, 32, 32)    (1, 1, 512, 3)  \n",
            "G_synthesis/Upscale2D_2     -         (?, 3, 32, 32)    -               \n",
            "G_synthesis/Grow_lod1       -         (?, 3, 32, 32)    -               \n",
            "G_synthesis/64x64/Conv0_up  1442816   (?, 256, 64, 64)  (3, 3, 512, 256)\n",
            "G_synthesis/64x64/Conv1     852992    (?, 256, 64, 64)  (3, 3, 256, 256)\n",
            "G_synthesis/ToRGB_lod0      771       (?, 3, 64, 64)    (1, 1, 256, 3)  \n",
            "G_synthesis/Upscale2D_3     -         (?, 3, 64, 64)    -               \n",
            "G_synthesis/Grow_lod0       -         (?, 3, 64, 64)    -               \n",
            "G_synthesis/images_out      -         (?, 3, 64, 64)    -               \n",
            "G_synthesis/lod             -         ()                -               \n",
            "G_synthesis/noise0          -         (1, 1, 4, 4)      -               \n",
            "G_synthesis/noise1          -         (1, 1, 4, 4)      -               \n",
            "G_synthesis/noise2          -         (1, 1, 8, 8)      -               \n",
            "G_synthesis/noise3          -         (1, 1, 8, 8)      -               \n",
            "G_synthesis/noise4          -         (1, 1, 16, 16)    -               \n",
            "G_synthesis/noise5          -         (1, 1, 16, 16)    -               \n",
            "G_synthesis/noise6          -         (1, 1, 32, 32)    -               \n",
            "G_synthesis/noise7          -         (1, 1, 32, 32)    -               \n",
            "G_synthesis/noise8          -         (1, 1, 64, 64)    -               \n",
            "G_synthesis/noise9          -         (1, 1, 64, 64)    -               \n",
            "images_out                  -         (?, 3, 64, 64)    -               \n",
            "---                         ---       ---               ---             \n",
            "Total                       25137935                                    \n",
            "\n",
            "\n",
            "D                    Params    OutputShape       WeightShape     \n",
            "---                  ---       ---               ---             \n",
            "images_in            -         (?, 3, 64, 64)    -               \n",
            "labels_in            -         (?, 0)            -               \n",
            "lod                  -         ()                -               \n",
            "FromRGB_lod0         1024      (?, 256, 64, 64)  (1, 1, 3, 256)  \n",
            "64x64/Conv0          590080    (?, 256, 64, 64)  (3, 3, 256, 256)\n",
            "64x64/Conv1_down     1180160   (?, 512, 32, 32)  (3, 3, 256, 512)\n",
            "Downscale2D          -         (?, 3, 32, 32)    -               \n",
            "FromRGB_lod1         2048      (?, 512, 32, 32)  (1, 1, 3, 512)  \n",
            "Grow_lod0            -         (?, 512, 32, 32)  -               \n",
            "32x32/Conv0          2359808   (?, 512, 32, 32)  (3, 3, 512, 512)\n",
            "32x32/Conv1_down     2359808   (?, 512, 16, 16)  (3, 3, 512, 512)\n",
            "Downscale2D_1        -         (?, 3, 16, 16)    -               \n",
            "FromRGB_lod2         2048      (?, 512, 16, 16)  (1, 1, 3, 512)  \n",
            "Grow_lod1            -         (?, 512, 16, 16)  -               \n",
            "16x16/Conv0          2359808   (?, 512, 16, 16)  (3, 3, 512, 512)\n",
            "16x16/Conv1_down     2359808   (?, 512, 8, 8)    (3, 3, 512, 512)\n",
            "Downscale2D_2        -         (?, 3, 8, 8)      -               \n",
            "FromRGB_lod3         2048      (?, 512, 8, 8)    (1, 1, 3, 512)  \n",
            "Grow_lod2            -         (?, 512, 8, 8)    -               \n",
            "8x8/Conv0            2359808   (?, 512, 8, 8)    (3, 3, 512, 512)\n",
            "8x8/Conv1_down       2359808   (?, 512, 4, 4)    (3, 3, 512, 512)\n",
            "Downscale2D_3        -         (?, 3, 4, 4)      -               \n",
            "FromRGB_lod4         2048      (?, 512, 4, 4)    (1, 1, 3, 512)  \n",
            "Grow_lod3            -         (?, 512, 4, 4)    -               \n",
            "4x4/MinibatchStddev  -         (?, 513, 4, 4)    -               \n",
            "4x4/Conv             2364416   (?, 512, 4, 4)    (3, 3, 513, 512)\n",
            "4x4/Dense0           4194816   (?, 512)          (8192, 512)     \n",
            "4x4/Dense1           513       (?, 1)            (512, 1)        \n",
            "scores_out           -         (?, 1)            -               \n",
            "---                  ---       ---               ---             \n",
            "Total                22498049                                    \n",
            "\n",
            "Building TensorFlow graph...\n",
            "WARNING:tensorflow:From /content/stylegan/training/training_loop.py:167: div (from tensorflow.python.ops.math_ops) is deprecated and will be removed in a future version.\n",
            "Instructions for updating:\n",
            "Deprecated in favor of operator or tf.math.divide.\n",
            "WARNING:tensorflow:From /content/stylegan/dnnlib/util.py:242: The name tf.train.AdamOptimizer is deprecated. Please use tf.compat.v1.train.AdamOptimizer instead.\n",
            "\n",
            "WARNING:tensorflow:From /content/stylegan/training/training_loop.py:34: The name tf.random_uniform is deprecated. Please use tf.random.uniform instead.\n",
            "\n",
            "WARNING:tensorflow:From /content/stylegan/training/loss.py:132: The name tf.random_normal is deprecated. Please use tf.random.normal instead.\n",
            "\n",
            "WARNING:tensorflow:From /content/stylegan/training/networks_stylegan.py:90: The name tf.nn.avg_pool is deprecated. Please use tf.nn.avg_pool2d instead.\n",
            "\n",
            "WARNING:tensorflow:From /content/stylegan/dnnlib/tflib/autosummary.py:61: The name tf.is_finite is deprecated. Please use tf.math.is_finite instead.\n",
            "\n",
            "WARNING:tensorflow:From /content/stylegan/dnnlib/tflib/autosummary.py:65: The name tf.is_variable_initialized is deprecated. Please use tf.compat.v1.is_variable_initialized instead.\n",
            "\n",
            "WARNING:tensorflow:From /content/stylegan/dnnlib/tflib/autosummary.py:65: The name tf.assign_add is deprecated. Please use tf.compat.v1.assign_add instead.\n",
            "\n",
            "WARNING:tensorflow:From /content/stylegan/dnnlib/tflib/optimizer.py:98: The name tf.train.Optimizer is deprecated. Please use tf.compat.v1.train.Optimizer instead.\n",
            "\n",
            "WARNING:tensorflow:\n",
            "The TensorFlow contrib module will not be included in TensorFlow 2.0.\n",
            "For more information, please see:\n",
            "  * https://github.com/tensorflow/community/blob/master/rfcs/20180907-contrib-sunset.md\n",
            "  * https://github.com/tensorflow/addons\n",
            "  * https://github.com/tensorflow/io (for I/O related ops)\n",
            "If you depend on functionality not listed there, please file an issue.\n",
            "\n",
            "Setting up snapshot image grid...\n",
            "Setting up run dir...\n",
            "WARNING:tensorflow:From /content/stylegan/training/training_loop.py:202: The name tf.summary.FileWriter is deprecated. Please use tf.compat.v1.summary.FileWriter instead.\n",
            "\n",
            "Training...\n",
            "\n",
            "tick 1     kimg 140.3    lod 3.00  minibatch 128  time 8m 12s       sec/tick 445.6   sec/kimg 3.18    maintenance 46.2   gpumem 4.3 \n",
            "Downloading https://nvlabs-fi-cdn.nvidia.com/stylegan/networks/metrics/inception_v3_features.pkl ... done\n",
            "network-snapshot-000140        time 26m 15s      fid50k 331.4630  \n",
            "WARNING:tensorflow:From /content/stylegan/dnnlib/tflib/autosummary.py:137: The name tf.summary.scalar is deprecated. Please use tf.compat.v1.summary.scalar instead.\n",
            "\n",
            "WARNING:tensorflow:From /content/stylegan/dnnlib/tflib/autosummary.py:182: The name tf.summary.merge_all is deprecated. Please use tf.compat.v1.summary.merge_all instead.\n",
            "\n",
            "tick 2     kimg 280.6    lod 3.00  minibatch 128  time 42m 00s      sec/tick 437.0   sec/kimg 3.12    maintenance 1591.2 gpumem 4.3 \n",
            "tick 3     kimg 420.9    lod 3.00  minibatch 128  time 49m 18s      sec/tick 437.2   sec/kimg 3.12    maintenance 0.9    gpumem 4.3 \n",
            "tick 4     kimg 561.2    lod 3.00  minibatch 128  time 56m 36s      sec/tick 437.2   sec/kimg 3.12    maintenance 0.8    gpumem 4.3 \n",
            "tick 5     kimg 681.5    lod 2.87  minibatch 128  time 1h 11m 55s   sec/tick 917.9   sec/kimg 7.63    maintenance 0.8    gpumem 4.4 \n",
            "tick 6     kimg 801.8    lod 2.66  minibatch 128  time 1h 31m 33s   sec/tick 1176.9  sec/kimg 9.78    maintenance 1.5    gpumem 4.4 \n",
            "tick 7     kimg 922.1    lod 2.46  minibatch 128  time 1h 51m 00s   sec/tick 1166.0  sec/kimg 9.69    maintenance 1.3    gpumem 4.4 \n",
            "tick 8     kimg 1042.4   lod 2.26  minibatch 128  time 2h 10m 18s   sec/tick 1156.3  sec/kimg 9.61    maintenance 1.2    gpumem 4.4 \n",
            "tick 9     kimg 1162.8   lod 2.06  minibatch 128  time 2h 29m 35s   sec/tick 1156.0  sec/kimg 9.61    maintenance 1.2    gpumem 4.4 \n",
            "tick 10    kimg 1283.1   lod 2.00  minibatch 128  time 2h 48m 39s   sec/tick 1142.7  sec/kimg 9.50    maintenance 1.2    gpumem 4.4 \n",
            "network-snapshot-001283        time 14m 04s      fid50k 293.3653  \n",
            "tick 11    kimg 1403.4   lod 2.00  minibatch 128  time 3h 21m 43s   sec/tick 1138.0  sec/kimg 9.46    maintenance 846.2  gpumem 4.4 \n",
            "tick 12    kimg 1523.7   lod 2.00  minibatch 128  time 3h 40m 45s   sec/tick 1140.6  sec/kimg 9.48    maintenance 1.2    gpumem 4.4 \n",
            "tick 13    kimg 1644.0   lod 2.00  minibatch 128  time 3h 59m 50s   sec/tick 1143.2  sec/kimg 9.50    maintenance 1.2    gpumem 4.4 \n",
            "tick 14    kimg 1764.4   lod 2.00  minibatch 128  time 4h 18m 48s   sec/tick 1137.6  sec/kimg 9.45    maintenance 1.2    gpumem 4.4 \n",
            "tick 15    kimg 1864.4   lod 1.89  minibatch 64   time 5h 03m 53s   sec/tick 2703.4  sec/kimg 27.01   maintenance 1.2    gpumem 4.7 \n"
          ]
        }
      ]
    },
    {
      "cell_type": "markdown",
      "metadata": {
        "id": "mt1Nm5h5Ddqq"
      },
      "source": [
        "## Use pre-trained weights to generate images from the custom dataset"
      ]
    },
    {
      "cell_type": "code",
      "metadata": {
        "colab": {
          "base_uri": "https://localhost:8080/"
        },
        "id": "vK9VvlFSDiK7",
        "outputId": "f6ac477a-2abf-4078-9497-047216f1eb85"
      },
      "source": [
        "import pickle\n",
        "import numpy as np\n",
        "import dnnlib\n",
        "import dnnlib.tflib as tflib\n",
        "import config\n",
        "import PIL.Image"
      ],
      "execution_count": 25,
      "outputs": [
        {
          "output_type": "stream",
          "name": "stdout",
          "text": [
            "WARNING:tensorflow:From /content/stylegan/dnnlib/tflib/tfutil.py:34: The name tf.Dimension is deprecated. Please use tf.compat.v1.Dimension instead.\n",
            "\n",
            "WARNING:tensorflow:From /content/stylegan/dnnlib/tflib/tfutil.py:74: The name tf.variable_scope is deprecated. Please use tf.compat.v1.variable_scope instead.\n",
            "\n",
            "WARNING:tensorflow:From /content/stylegan/dnnlib/tflib/tfutil.py:128: The name tf.Session is deprecated. Please use tf.compat.v1.Session instead.\n",
            "\n"
          ]
        }
      ]
    },
    {
      "cell_type": "code",
      "metadata": {
        "id": "cVfrolTUDfyi"
      },
      "source": [
        "def main():\n",
        "  # Initialize TensorFlow.\n",
        "  tflib.init_tf()\n",
        "  url = '/content/network-snapshot-003685.pkl'\n",
        "\n",
        "  with open(url,'rb') as f :\n",
        "\n",
        "    _G, _D, Gs = pickle.load(f)\n",
        "\n",
        "    # _G = Instantaneous snapshot of the generator. Mainly useful for resuming a previous training run.\n",
        "    # _D = Instantaneous snapshot of the discriminator. Mainly useful for resuming a previous training run.\n",
        "    # Gs = Long-term average of the generator. Yields higher-quality results than the instantaneous snapshot.\n",
        "\n",
        "    # Print network details.\n",
        "    Gs.print_layers()\n",
        "\n",
        "    # Pick latent vector.\n",
        "    rnd = np.random.RandomState()\n",
        "    latents = rnd.randn(1, Gs.input_shape[1])\n",
        "\n",
        "    # Generate image.\n",
        "\n",
        "    fmt = dict(func=tflib.convert_images_to_uint8, nchw_to_nhwc=True)\n",
        "    images = Gs.run(latents, None, truncation_psi=0.7, randomize_noise=True, output_transform=fmt)\n",
        "\n",
        "    # Save image.\n",
        "\n",
        "    os.makedirs(config.result_dir, exist_ok=True)\n",
        "\n",
        "    png_filename = os.path.join(config.result_dir, f’/content/example1.png’)\n",
        "\n",
        "    PIL.Image.fromarray(images[0], ‘RGB’).save(png_filename)\n",
        "\n",
        "#if __name__ == \"__main__\":\n",
        "main()\n",
        "\n",
        "# On running this code , output image example1.png will be created under /content. The output quality will be based on the network_snapshot.pkl we use"
      ],
      "execution_count": null,
      "outputs": []
    }
  ]
}